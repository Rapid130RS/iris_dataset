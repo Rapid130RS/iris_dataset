{
  "nbformat": 4,
  "nbformat_minor": 0,
  "metadata": {
    "colab": {
      "name": "matplotlib_pyplot.ipynb",
      "version": "0.3.2",
      "provenance": [],
      "collapsed_sections": [],
      "include_colab_link": true
    },
    "kernelspec": {
      "name": "python3",
      "display_name": "Python 3"
    }
  },
  "cells": [
    {
      "cell_type": "markdown",
      "metadata": {
        "id": "view-in-github",
        "colab_type": "text"
      },
      "source": [
        "<a href=\"https://colab.research.google.com/github/Rapid130RS/iris_dataset/blob/archive/matplotlib_pyplot.ipynb\" target=\"_parent\"><img src=\"https://colab.research.google.com/assets/colab-badge.svg\" alt=\"Open In Colab\"/></a>"
      ]
    },
    {
      "metadata": {
        "id": "ld0f5F1U7OHo",
        "colab_type": "code",
        "outputId": "7670981a-1a1e-4071-c2cf-4eb2c4a4c129",
        "colab": {
          "base_uri": "https://localhost:8080/",
          "height": 811
        }
      },
      "cell_type": "code",
      "source": [
        "# Seamus Keating April 2019\n",
        "# The objective of this project is to demonstrate how python libraries can make datat easily understood\n",
        "# I will inially use a scatter plot to understand the realtionships between the four attributes\n",
        "import matplotlib.pyplot as plt\n",
        "import numpy as np\n",
        "import pandas as pd                                                             # pandas is being used to obtain the CSV file\n",
        "import csv                                                                      # csv allows me to manipulate the csv file\n",
        "url = 'https://raw.githubusercontent.com/uiuc-cse/data-fa14/gh-pages/data/iris.csv'\n",
        "irisDf=pd.read_csv(url)                                                         \n",
        "#print(irisDf)                                                                  # This print output is just so I can read and understand the array.\n",
        "                                                                                # the dataframe output is useful in extracting row and columns\n",
        "#print(irisDf.head(50))                                                         # This is for example the first 50 rows of data, which is all of one class of iris\n",
        "#print(irisDf['species'])                                                       # This is a print out of the speiceis column\n",
        "#print(irisDf.loc[0,'species'])                                                 # Print output a specific location\n",
        "\n",
        "## Obtian average for the four attributes\n",
        "meanSepalLength = (round(irisDf[\"sepal_length\"].mean(), 2))\n",
        "meanSepalWidth = (round(irisDf[\"sepal_width\"].mean(), 2))\n",
        "meanPetalLength = (round(irisDf[\"petal_length\"].mean(), 2))\n",
        "meanPetalWidth = (round(irisDf[\"petal_width\"].mean(), 2))\n",
        "#print(\"The mean Sepal length is \"+str(meanSepalLength)+\".cm\")\n",
        "#print(\"The mean Sepal width is \"+str(meanSepalWidth)+\".cm\")\n",
        "#print(\"The mean Petal length is \"+str(meanPetalLength)+\".cm\")\n",
        "#print(\"The mean Petal width is \"+str(meanPetalWidth)+\".cm\")\n",
        "\n",
        "# Fiilter the IrisDb ( I know that there are three classes of iris so will use iloc)\n",
        "isSetosa = irisDf.iloc[0:50]\n",
        "isVersicolor = irisDf.iloc[51:99]\n",
        "isVirginica = irisDf.iloc[100:150]\n",
        "#print (isSetosa)                                                               \n",
        "#print (isVersicolor)\n",
        "#print (isVirginica)\n",
        "\n",
        "#Review the Setosa Data\n",
        "meanSetosaSepalLength = (round(isSetosa[\"sepal_length\"].mean(), 2))\n",
        "meanSetosaSepalWidth = (round(isSetosa[\"sepal_width\"].mean(), 2))\n",
        "meanSetosaPetalLength = (round(isSetosa[\"petal_length\"].mean(), 2))\n",
        "meanSetosaPetalWidth = (round(isSetosa[\"petal_width\"].mean(), 2))\n",
        "print(\"The mean Setosa Sepal length is \"+str(meanSetosaSepalLength)+\".cm\")\n",
        "print(\"The mean Setosa Sepal width is \"+str(meanSetosaSepalWidth)+\".cm\")\n",
        "print(\"The mean Setosa Petal length is \"+str(meanSetosaPetalLength)+\".cm\")\n",
        "print(\"The mean Setosa Petal width is \"+str(meanSetosaPetalWidth)+\".cm\")\n",
        "# Format a Scatter Plot for the Setosa Sepal Size\n",
        "plt.title(\"Relative Sepal Sizes for Setosa\")\n",
        "plt.xlabel(\"Length\")\n",
        "plt.ylabel(\"Width\")\n",
        "plt.legend(loc=2)\n",
        "marker_size=15\n",
        "# Pass in the data\n",
        "xSetosaPetal=isSetosa.sepal_length\n",
        "ySteosaSepal=isSetosa.sepal_width\n",
        "plt.scatter(xSetosaPetal, ySteosaSepal, marker_size, c= 'r') #marker_size determines size of data point on chart, c is colour\n",
        "plt.show()\n",
        "# Format a Scatter Plot for the Setosa Petal Size\n",
        "plt.title(\"Relative Petal Sizes for Setosa\")\n",
        "plt.xlabel(\"Length\")\n",
        "plt.ylabel(\"Width\")\n",
        "plt.legend(loc=2)\n",
        "marker_size=15\n",
        "# Pass in the data\n",
        "plt.scatter(x, y, marker_size, c='b')\n",
        "x=isSetosa.petal_length\n",
        "y=isSetosa.petal_width\n",
        "plt.show()\n",
        "\n",
        "\n",
        "\n",
        "\n",
        "\n",
        "#Review the Versicolor Data\n",
        "meanVersicolorSepalLength = (round(isVersicolor[\"sepal_length\"].mean(), 2))\n",
        "meanVersicolorSepalWidth = (round(isVersicolor[\"sepal_width\"].mean(), 2))\n",
        "meanVersicolorPetalLength = (round(isVersicolor[\"petal_length\"].mean(), 2))\n",
        "meanVersicolorPetalWidth = (round(isVersicolor[\"petal_width\"].mean(), 2))\n",
        "print(\"The mean Versicolor Sepal length is \"+str(meanVersicolorSepalLength)+\".cm\")\n",
        "print(\"The mean Versicolor Sepal width is \"+str(meanVersicolorSepalWidth)+\".cm\")\n",
        "print(\"The mean Versicolor Petal length is \"+str(meanVersicolorPetalLength)+\".cm\")\n",
        "print(\"The mean Versicolor Petal width is \"+str(meanVersicolorPetalWidth)+\".cm\")\n",
        "\n",
        "#Review the Virginica Data\n",
        "meanVirginicaSepalLength = (round(isVirginica[\"sepal_length\"].mean(), 2))\n",
        "meanVirginicaSepalWidth = (round(isVirginica[\"sepal_width\"].mean(), 2))\n",
        "meanVirginicaPetalLength = (round(isVirginica[\"petal_length\"].mean(), 2))\n",
        "meanVirginicaPetalWidth = (round(isVirginica[\"petal_width\"].mean(), 2))\n",
        "print(\"The mean Virginica Sepal length is \"+str(meanVirginicaSepalLength)+\".cm\")\n",
        "print(\"The mean Virginica Sepal width is \"+str(meanVirginicaSepalWidth)+\".cm\")\n",
        "print(\"The mean Virginica Petal length is \"+str(meanVirginicaPetalLength)+\".cm\")\n",
        "print(\"The mean Virginica Petal width is \"+str(meanVirginicaPetalWidth)+\".cm\")"
      ],
      "execution_count": 150,
      "outputs": [
        {
          "output_type": "stream",
          "text": [
            "No handles with labels found to put in legend.\n"
          ],
          "name": "stderr"
        },
        {
          "output_type": "stream",
          "text": [
            "The mean Setosa Sepal length is 5.01.cm\n",
            "The mean Setosa Sepal width is 3.42.cm\n",
            "The mean Setosa Petal length is 1.46.cm\n",
            "The mean Setosa Petal width is 0.24.cm\n"
          ],
          "name": "stdout"
        },
        {
          "output_type": "display_data",
          "data": {
            "image/png": "[encoded data removed]",
            "text/plain": [
              "<Figure size 432x288 with 1 Axes>"
            ]
          },
          "metadata": {
            "tags": []
          }
        },
        {
          "output_type": "stream",
          "text": [
            "No handles with labels found to put in legend.\n"
          ],
          "name": "stderr"
        },
        {
          "output_type": "display_data",
          "data": {
            "image/png": "[encoded data removed]",
            "text/plain": [
              "<Figure size 432x288 with 1 Axes>"
            ]
          },
          "metadata": {
            "tags": []
          }
        },
        {
          "output_type": "stream",
          "text": [
            "The mean Versicolor Sepal length is 5.92.cm\n",
            "The mean Versicolor Sepal width is 2.76.cm\n",
            "The mean Versicolor Petal length is 4.25.cm\n",
            "The mean Versicolor Petal width is 1.32.cm\n",
            "The mean Virginica Sepal length is 6.59.cm\n",
            "The mean Virginica Sepal width is 2.97.cm\n",
            "The mean Virginica Petal length is 5.55.cm\n",
            "The mean Virginica Petal width is 2.03.cm\n"
          ],
          "name": "stdout"
        }
      ]
    }
  ]
}