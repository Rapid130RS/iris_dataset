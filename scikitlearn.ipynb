{
  "nbformat": 4,
  "nbformat_minor": 0,
  "metadata": {
    "colab": {
      "name": "scikitlearn.ipynb",
      "version": "0.3.2",
      "provenance": [],
      "include_colab_link": true
    },
    "kernelspec": {
      "name": "python3",
      "display_name": "Python 3"
    }
  },
  "cells": [
    {
      "cell_type": "markdown",
      "metadata": {
        "id": "view-in-github",
        "colab_type": "text"
      },
      "source": [
        "<a href=\"https://colab.research.google.com/github/Rapid130RS/iris_dataset/blob/master/scikitlearn.ipynb\" target=\"_parent\"><img src=\"https://colab.research.google.com/assets/colab-badge.svg\" alt=\"Open In Colab\"/></a>"
      ]
    },
    {
      "metadata": {
        "id": "4M_-lXugldIa",
        "colab_type": "code",
        "colab": {
          "base_uri": "https://localhost:8080/",
          "height": 326
        },
        "outputId": "6f838dfe-b4ad-48a4-8944-8463db911e47"
      },
      "cell_type": "code",
      "source": [
        "#this is to deomonstrate the use of Scikit learn in analysing a data set\n",
        "#see <https://scikit-learn.org/stable/tutorial/basic/tutorial.html>\n",
        "\n",
        "import numpy as np\n",
        "import sklearn #import scikit learn\n",
        "import pandas as pd # allows input/output of a CSV file and processing\n",
        "#iris = pd.read_csv('https://raw.githubusercontent.com/uiuc-cse/data-fa14/gh-pages/data/iris.csv') # I imported the data set from a URL due to the IDE that I use. \n",
        "from sklearn.datasets import load_iris  #Sklearn has the Iris dataset preloaded                                                                                               # Equally, I could use the dataset that I imported to this repo.\n",
        "iris = load_iris()\n",
        "# print (iris) #print output to see how the data is imported. I commneted this out as I only wanted to read the data and the structure of the array.\n",
        "n_samples, n_features = iris.data.shape #the data the s_samples and n_features refer to the two demensional array. Numpy recognises the columns and rows in the array as features and samples respectively. \n",
        "# the iris data attribute is a numpy array\n",
        "numberOfSamples = str(n_samples)\n",
        "numberOfFeatures = str(n_features)\n",
        "firstRecord = str(iris.data[0]) #iris.data; data is an attribute already defined in the dataset\n",
        "nameOfClasses = str(iris.target_names[0]) #in the scikit iris dataset, target names is assigned in the array.\n",
        "print (\"Overview of the dataset:\")\n",
        "print (\"The number of samples studied is: \"+ numberOfSamples) # there are 150 samples\n",
        "print (\"The number of features (Petal and Sepel) is: \"+ numberOfFeatures) # there are 4 colums\n",
        "print (\"The data for the first record is :\"+ firstRecord)# this is the first sample in the dataset, the seple lenght is 5.1cm, width 3.5cm, Petal length is 1.4cm and width 0.2cm\n",
        "print (\"The first record refers to Sepel length as \"+str(iris.data[0,0])+\".cm, Seple width is \"+str(iris.data[0,1])+\".cm, Petel length is \"+str(iris.data[0,2])+\".cm and Petal width is \"+str(iris.data[0,3])+ \".cm \")\n",
        "print (\"The three classes of flower studes are :\"+ str(iris.target_names[0])+\", \"+str(iris.target_names[1])+\" and \"+str(iris.target_names[2])+\".\")# this outputs the values in the array for the \n",
        "# Having had a brief look at the date set, I want to look at what SchKit can do\n",
        "X, y = iris.data, iris.target #define two variables. X is in caps as the data var is two dememensial, while y is lower case as is one demensiaonla\n",
        "from sklearn.svm import LinearSVC #import linear support vector classifacaiton machine- a machine learning class that is used to conduct machine learning\n",
        "#LinearSVC() #looking at the class and its attributes, commented out once reviewed\n",
        "clf= LinearSVC(C=150,max_iter=10000) #create the classifer (clf) and asign the value c=150, which is the total number of samples. C need not be the number of samples.\n",
        "clf = clf.fit(X,y) #this is the fit function, which is an intital step in creeating an machine learning environment. A convergence warning may appear here, depending on the version of python. It can be ignored.\n",
        "print (\"The process of trainng the model revises the array: \"+ str(clf.coef_))\n",
        "#print (clf.intercept_) \n",
        "# Having defined the model, it can be used to predict values\n",
        "newSepelLength=float(input(\"Enter the length of the Sepel: \"))\n",
        "newSepelWidth=float(input(\"Enter the width of the Sepel: \"))\n",
        "newPetelLength=float(input(\"Enter the length of the Petel: \"))\n",
        "newPetelWidth=float(input(\"Enter the width of the Petel: \"))\n",
        "#dt = np.dtype(float)\n",
        "newMeasurement=np.array([newSepelLength, newSepelWidth, newPetelLength, newPetelWidth])\n",
        "arrayForTest=newMeasurement.reshape(-1,4)\n",
        "print (\"You entered: \"+str(arrayForTest))\n",
        "#[float(arrayForTest) for i in newMeasurement]\n",
        "clf.predict(arrayForTest)"
      ],
      "execution_count": 118,
      "outputs": [
        {
          "output_type": "stream",
          "text": [
            "/usr/local/lib/python3.6/dist-packages/sklearn/svm/base.py:931: ConvergenceWarning: Liblinear failed to converge, increase the number of iterations.\n",
            "  \"the number of iterations.\", ConvergenceWarning)\n"
          ],
          "name": "stderr"
        },
        {
          "output_type": "stream",
          "text": [
            "Overview of the dataset:\n",
            "The number of samples studied is: 150\n",
            "The number of features (Petal and Sepel) is: 4\n",
            "The data for the first record is :[5.1 3.5 1.4 0.2]\n",
            "The first record refers to Sepel length as 5.1.cm, Seple width is 3.5.cm, Petel length is 1.4.cm and Petal width is 0.2.cm \n",
            "The three classes of flower studes are :setosa, versicolor and virginica.\n",
            "The process of trainng the model revises the array: [[ 0.30773208  0.43035635 -1.042325   -0.6167912 ]\n",
            " [-0.03533075 -0.98904515  0.58642333 -1.11572844]\n",
            " [-0.81448439 -1.66046511  2.43451032  4.38311463]]\n",
            "Enter the length of the Sepel: 0.2\n",
            "Enter the width of the Sepel: .3\n",
            "Enter the length of the Petel: .4\n",
            "Enter the width of the Petel: .5\n",
            "You entered: [[0.2 0.3 0.4 0.5]]\n"
          ],
          "name": "stdout"
        },
        {
          "output_type": "execute_result",
          "data": {
            "text/plain": [
              "array([1])"
            ]
          },
          "metadata": {
            "tags": []
          },
          "execution_count": 118
        }
      ]
    }
  ]
}