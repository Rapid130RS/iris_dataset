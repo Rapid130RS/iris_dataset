{
  "nbformat": 4,
  "nbformat_minor": 0,
  "metadata": {
    "colab": {
      "name": "scikitlearn.ipynb",
      "version": "0.3.2",
      "provenance": [],
      "include_colab_link": true
    },
    "kernelspec": {
      "name": "python3",
      "display_name": "Python 3"
    }
  },
  "cells": [
    {
      "cell_type": "markdown",
      "metadata": {
        "id": "view-in-github",
        "colab_type": "text"
      },
      "source": [
        "<a href=\"https://colab.research.google.com/github/Rapid130RS/iris_dataset/blob/master/scikitlearn.ipynb\" target=\"_parent\"><img src=\"https://colab.research.google.com/assets/colab-badge.svg\" alt=\"Open In Colab\"/></a>"
      ]
    },
    {
      "metadata": {
        "id": "4M_-lXugldIa",
        "colab_type": "code",
        "colab": {
          "base_uri": "https://localhost:8080/",
          "height": 139
        },
        "outputId": "52f50e02-e9c1-4c43-9762-36b0ab155348"
      },
      "cell_type": "code",
      "source": [
        "#this is to deomonstrate the use of Scikit learn in analysing a data set\n",
        "#see <https://scikit-learn.org/stable/tutorial/basic/tutorial.html>\n",
        "\n",
        "import numpy as np\n",
        "import sklearn #import scikit learn\n",
        "import pandas as pd # allows input/output of a CSV file and processing\n",
        "#iris = pd.read_csv('https://raw.githubusercontent.com/uiuc-cse/data-fa14/gh-pages/data/iris.csv') # I imported the data set from a URL due to the IDE that I use. \n",
        "from sklearn.datasets import load_iris  #Sklearn has the Iris dataset preloaded                                                                                               # Equally, I could use the dataset that I imported to this repo.\n",
        "iris = load_iris()\n",
        "# print (iris) #print output to see how the data is imported. I commneted this out as I only wanted to read the data and the structure of the array.\n",
        "n_samples, n_features = iris.data.shape #the data the s_samples and n_features refer to the two demensional array. Numpy recognises the columns and rows in the array as features and samples respectively. \n",
        "# the iris data attribute is a numpy array\n",
        "numberOfSamples = str(n_samples)\n",
        "numberOfFeatures = str(n_features)\n",
        "firstRecord = str(iris.data[0]) #iris.data; data is an attribute already defined in the dataset\n",
        "nameOfClasses = str(iris.target_names[0]) #in the scikit iris dataset, target names is assigned in the array.\n",
        "print (\"Overview of the dataset:\")\n",
        "print (\"The number of samples studied is: \"+ numberOfSamples) # there are 150 samples\n",
        "print (\"The number of features (Petal and Sepel) is: \"+ numberOfFeatures) # there are 4 colums\n",
        "print (\"The data for the first record is :\"+ firstRecord)# this is the first sample in the dataset, the seple lenght is 5.1cm, width 3.5cm, Petal length is 1.4cm and width 0.2cm\n",
        "print (\"The first record refers to Sepel length as \"+str(iris.data[0,0])+\".cm, Seple width is \"+str(iris.data[0,1])+\".cm, Petel length is \"+str(iris.data[0,2])+\".cm and Petal width is \"+str(iris.data[0,3])+ \".cm \")\n",
        "print (\"The three classes of flower studes are :\"+ str(iris.target_names[0])+\", \"+str(iris.target_names[1])+\" and \"+str(iris.target_names[2])+\".\")# this outputs the values in the array for the \n",
        "# Having had a brief look at the date set, I want to look at what SchKit can do\n",
        "X, y = iris.data, iris.target #define two variables. X is in caps as the data var is two dememensial, while y is lower case as is one demensiaonla\n",
        "from sklearn.svm import LinearSVC #import linear support vector classifacaiton machine- a machine learning class that is used to conduct machine learning\n",
        "#LinearSVC() #looking at the class and its attributes, commented out once reviewed\n",
        "clf= LinearSVC(C=150)    #create the classifer (clf) and asign the value c=150, which is the total number of data points. \n"
      ],
      "execution_count": 68,
      "outputs": [
        {
          "output_type": "stream",
          "text": [
            "Overview of the dataset:\n",
            "The number of samples studied is: 150\n",
            "The number of features (Petal and Sepel) is: 4\n",
            "The data for the first record is :[5.1 3.5 1.4 0.2]\n",
            "The first record refers to Sepel length as 5.1.cm, Seple width is 3.5.cm, Petel length is 1.4.cm and Petal width is 0.2.cm \n",
            "The three classes of flower studes are :setosa, versicolor and virginica.\n"
          ],
          "name": "stdout"
        }
      ]
    }
  ]
}