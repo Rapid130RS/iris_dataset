{
  "nbformat": 4,
  "nbformat_minor": 0,
  "metadata": {
    "colab": {
      "name": "scikitlearn.ipynb",
      "version": "0.3.2",
      "provenance": [],
      "include_colab_link": true
    },
    "kernelspec": {
      "name": "python3",
      "display_name": "Python 3"
    }
  },
  "cells": [
    {
      "cell_type": "markdown",
      "metadata": {
        "id": "view-in-github",
        "colab_type": "text"
      },
      "source": [
        "<a href=\"https://colab.research.google.com/github/Rapid130RS/iris_dataset/blob/master/scikitlearn.ipynb\" target=\"_parent\"><img src=\"https://colab.research.google.com/assets/colab-badge.svg\" alt=\"Open In Colab\"/></a>"
      ]
    },
    {
      "metadata": {
        "id": "4M_-lXugldIa",
        "colab_type": "code",
        "colab": {
          "base_uri": "https://localhost:8080/",
          "height": 122
        },
        "outputId": "44abab34-1e5e-444e-d2bf-7abfa74c73ec"
      },
      "cell_type": "code",
      "source": [
        "#this is to deomonstrate the use of Scikit learn in analysing a data set\n",
        "#see <https://scikit-learn.org/stable/tutorial/basic/tutorial.html>\n",
        "\n",
        "import numpy as np\n",
        "import sklearn #import scikit learn\n",
        "import pandas as pd # allows input/output of a CSV file and processing\n",
        "#iris = pd.read_csv('https://raw.githubusercontent.com/uiuc-cse/data-fa14/gh-pages/data/iris.csv') # I imported the data set from a URL due to the IDE that I use. \n",
        "from sklearn.datasets import load_iris  #Sklearn has the Iris dataset preloaded                                                                                               # Equally, I could use the dataset that I imported to this repo.\n",
        "iris = load_iris()\n",
        "#print (iris) #print output to see how the data is imported.\n",
        "n_samples, n_features = iris.data.shape #the data the s_samples and n_features refer to the two demensional array. Numpy recognises the columns and rows in the array as features and samples respectively. \n",
        "# the iris data attribute is a numpy array\n",
        "numberOfSamples = str(n_samples)\n",
        "numberOfFeatures = str(n_features)\n",
        "firstRecord = str(iris.data[0])\n",
        "nameOfClasses = str(iris.target_names)\n",
        "print (\"Overview of the dataset\")\n",
        "print (\"The number of samples studied is :\"+ numberOfSamples) # there are 150 samples\n",
        "print (\"The number of features (Petal and Sepel size in cm) is :\"+ numberOfFeatures) # there are 4 colums\n",
        "print (\"The data for the first record is :\"+ firstRecord)# this is the first sample in the dataset, the seple lenght is 5.1cm, width 3.5cm, Petal length is 1.4cm and width 0.2cm\n",
        "print (\"The three classes of flower studes are :\"+ nameOfClasses)# "
      ],
      "execution_count": 40,
      "outputs": [
        {
          "output_type": "stream",
          "text": [
            "Overview of the dataset\n",
            "The number of samples studied is :150\n",
            "The number of features (Petal and Sepel size in cm) is :4\n",
            "The data for the first record is :[5.1 3.5 1.4 0.2]\n",
            "The three classes of flower studes are :['setosa' 'versicolor' 'virginica']\n"
          ],
          "name": "stdout"
        }
      ]
    }
  ]
}